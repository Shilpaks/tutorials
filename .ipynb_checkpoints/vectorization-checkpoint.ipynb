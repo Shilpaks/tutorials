{
 "cells": [
  {
   "cell_type": "markdown",
   "metadata": {},
   "source": [
    "# Vectorization \n",
    "Vectorization is oftentimes an excellent alternative to explicit loops in model code. \n",
    "\n",
    "## Why is it faster?\n",
    "\n",
    "- SIMD (single instruction, multiple data) operations refers to a computing method that enables the concurrent processing of multiple data with a single instruction. These operations allow for data-level parallelism; there are simultaneous parallel computations, but only a single process (instruction) at a given moment.\n",
    "- Vectorized functions take advantage of SIMD.\n",
    "- Significant speedups on modern CPUs and GPUs. GPUs are likely to see larger speedups. \n",
    "\n",
    "## Proof + Examples "
   ]
  },
  {
   "cell_type": "markdown",
   "metadata": {},
   "source": [
    "### First, we'll look at the difference between an explicit for loop and a vectorized computation when computing a dot product. "
   ]
  },
  {
   "cell_type": "code",
   "execution_count": 164,
   "metadata": {},
   "outputs": [
    {
     "name": "stdout",
     "output_type": "stream",
     "text": [
      "The un-vectorized, explicit loop took 0.583461046219 seconds\n"
     ]
    }
   ],
   "source": [
    "import numpy as np\n",
    "from timeit import default_timer as timer\n",
    "\n",
    "a = np.array(range(1000000))\n",
    "b = np.array(range(1000000))\n",
    "start = timer()\n",
    "dot_product = 0\n",
    "for i, _ in enumerate(a):\n",
    "    dot_product += a[i] * b[i]\n",
    "end = timer()\n",
    "explicit_loop_time = end - start\n",
    "print(\"The un-vectorized, explicit loop took {} seconds\".format(explicit_loop_time))\n"
   ]
  },
  {
   "cell_type": "code",
   "execution_count": 167,
   "metadata": {},
   "outputs": [
    {
     "name": "stdout",
     "output_type": "stream",
     "text": [
      "The list comprehension took 0.544636964798 seconds\n"
     ]
    }
   ],
   "source": [
    "start = timer()\n",
    "dot_product = sum([x * y for x, y in zip(a, b)])\n",
    "end = timer()\n",
    "list_comp_time = end - start\n",
    "print(\"The list comprehension took {} seconds\".format(list_comp_time))"
   ]
  },
  {
   "cell_type": "code",
   "execution_count": 168,
   "metadata": {},
   "outputs": [
    {
     "name": "stdout",
     "output_type": "stream",
     "text": [
      "The vectorized computation took 0.00147080421448 seconds\n"
     ]
    }
   ],
   "source": [
    "start = timer()\n",
    "dot_product = np.dot(a, b)\n",
    "end = timer()\n",
    "vectorized_time = end - start\n",
    "print(\"The vectorized computation took {} seconds\".format(vectorized_time))"
   ]
  },
  {
   "cell_type": "code",
   "execution_count": 169,
   "metadata": {},
   "outputs": [
    {
     "name": "stdout",
     "output_type": "stream",
     "text": [
      "The vectorized computation was 396.695250446 times faster than the explicit for loop\n"
     ]
    }
   ],
   "source": [
    "print(\"The vectorized computation was {} times faster than the explicit for loop\".format(explicit_loop_time / vectorized_time))"
   ]
  },
  {
   "cell_type": "markdown",
   "metadata": {},
   "source": [
    "### Next, we'll take a look at multiplying a scalar to a vector. "
   ]
  },
  {
   "cell_type": "code",
   "execution_count": 170,
   "metadata": {},
   "outputs": [
    {
     "name": "stdout",
     "output_type": "stream",
     "text": [
      "The un-vectorized, explicit loop took 5.33989596367 seconds\n"
     ]
    }
   ],
   "source": [
    "x = np.array(range(10000000))\n",
    "start = timer()\n",
    "for i, _ in enumerate(x):\n",
    "    x[i] = x[i] * 2\n",
    "end = timer()\n",
    "explicit_loop_time = end - start\n",
    "print(\"The un-vectorized, explicit loop took {} seconds\".format(explicit_loop_time))\n"
   ]
  },
  {
   "cell_type": "markdown",
   "metadata": {},
   "source": [
    "#### Let's try a list comprehension. This happens on the C layer, so we expect it to be faster than what we're doing above. "
   ]
  },
  {
   "cell_type": "code",
   "execution_count": 171,
   "metadata": {},
   "outputs": [
    {
     "name": "stdout",
     "output_type": "stream",
     "text": [
      "The list comprehension took 3.21568202972 seconds\n"
     ]
    }
   ],
   "source": [
    "x = np.array(range(10000000))\n",
    "start = timer()\n",
    "x = [elem * 2 for elem in x]\n",
    "end = timer()\n",
    "list_comp_time = end - start\n",
    "print(\"The list comprehension took {} seconds\".format(list_comp_time))\n"
   ]
  },
  {
   "cell_type": "markdown",
   "metadata": {},
   "source": [
    "#### Now let's try a vectorized computation. "
   ]
  },
  {
   "cell_type": "code",
   "execution_count": 157,
   "metadata": {},
   "outputs": [
    {
     "name": "stdout",
     "output_type": "stream",
     "text": [
      "The vectorized computation took 0.0326690673828 seconds\n"
     ]
    }
   ],
   "source": [
    "x = np.array(range(10000000))\n",
    "start = timer()\n",
    "x = x * 2\n",
    "end = timer()\n",
    "vectorized_time = end - start\n",
    "print(\"The vectorized computation took {} seconds\".format(vectorized_time))\n"
   ]
  },
  {
   "cell_type": "code",
   "execution_count": 158,
   "metadata": {},
   "outputs": [
    {
     "name": "stdout",
     "output_type": "stream",
     "text": [
      "The vectorized computation was 163.388654542 times faster than the explicit for loop\n"
     ]
    }
   ],
   "source": [
    "print(\"The vectorized computation was {} times faster than the explicit for loop\".format(explicit_loop_time / vectorized_time))"
   ]
  },
  {
   "cell_type": "markdown",
   "metadata": {},
   "source": [
    "### Making predictions \n",
    "\n",
    "#### Suppose we've learned a linear decision boundary, $\\vec{w}$, and a bias, $b$, and we want to start making predictions on test data, $\\verb|testX|$"
   ]
  },
  {
   "cell_type": "code",
   "execution_count": 246,
   "metadata": {},
   "outputs": [],
   "source": [
    "num_examples = 100000\n",
    "num_features = 10\n",
    "\n",
    "test_X = np.random.randn(num_examples, num_features) # matrix of test examples \n",
    "w = np.random.randn(num_features, 1) # linear decision boundary \n",
    "b = 0.3  # bias "
   ]
  },
  {
   "cell_type": "code",
   "execution_count": 247,
   "metadata": {},
   "outputs": [
    {
     "name": "stdout",
     "output_type": "stream",
     "text": [
      "The vectorized computation took 3.46566605568 seconds\n"
     ]
    }
   ],
   "source": [
    "start = timer()\n",
    "predictions = []\n",
    "\n",
    "def dot_product(x, y): \n",
    "    dot = 0\n",
    "    for i, _ in enumerate(x): \n",
    "        dot += x[i] * y[i]\n",
    "    return dot \n",
    "\n",
    "for example in test_X:\n",
    "    predictions.append(1 if dot_product(example, w) > 0 else -1)\n",
    "end = timer()\n",
    "explicit_loop_time = end - start\n",
    "print(\"The vectorized computation took {} seconds\".format(explicit_loop_time))\n"
   ]
  },
  {
   "cell_type": "code",
   "execution_count": 248,
   "metadata": {},
   "outputs": [
    {
     "name": "stdout",
     "output_type": "stream",
     "text": [
      "The vectorized computation took 0.00564408302307 seconds\n"
     ]
    }
   ],
   "source": [
    "start = timer()\n",
    "raw_labels = np.dot(test_X, w)\n",
    "labels = np.where(raw_labels > 0, 1, -1)\n",
    "end = timer()\n",
    "vectorized_time = end - start\n",
    "print(\"The vectorized computation took {} seconds\".format(vectorized_time))"
   ]
  },
  {
   "cell_type": "code",
   "execution_count": 249,
   "metadata": {},
   "outputs": [
    {
     "name": "stdout",
     "output_type": "stream",
     "text": [
      "The vectorized computation was 614.035272251 times faster than the explicit for loop\n"
     ]
    }
   ],
   "source": [
    "print(\"The vectorized computation was {} times faster than the explicit for loop\".format(explicit_loop_time / vectorized_time))"
   ]
  },
  {
   "cell_type": "markdown",
   "metadata": {},
   "source": [
    "## [Optional]: Let's observe changes in speedup as input dimensions increase "
   ]
  },
  {
   "cell_type": "code",
   "execution_count": 251,
   "metadata": {},
   "outputs": [],
   "source": [
    "def observe_speedup(num_examples, num_features):\n",
    "    test_X = np.random.randn(num_examples, num_features) # matrix of test examples \n",
    "    w = np.random.randn(num_features, 1) # linear decision boundary \n",
    "    b = 0.3  # bias \n",
    "\n",
    "    start = timer()\n",
    "    predictions = []\n",
    "\n",
    "    def dot_product(x, y): \n",
    "        dot = 0\n",
    "        for i, _ in enumerate(x): \n",
    "            dot += x[i] * y[i]\n",
    "        return dot \n",
    "\n",
    "    for example in test_X:\n",
    "        predictions.append(1 if (dot_product(example, w) + b) > 0 else -1)\n",
    "    end = timer()\n",
    "    explicit_loop_time = end - start\n",
    "\n",
    "\n",
    "    start = timer()\n",
    "    raw_labels = np.dot(test_X, w) + b\n",
    "    labels = np.where(raw_labels > 0, 1, -1)\n",
    "    end = timer()\n",
    "    vectorized_time = end - start\n",
    "\n",
    "    print(\"The vectorized computation was {} times faster than the explicit for loop\".format(explicit_loop_time / vectorized_time))"
   ]
  },
  {
   "cell_type": "code",
   "execution_count": 252,
   "metadata": {},
   "outputs": [
    {
     "name": "stdout",
     "output_type": "stream",
     "text": [
      "The vectorized computation was 25.7014742015 times faster than the explicit for loop\n"
     ]
    }
   ],
   "source": [
    "num_training_examples = 100 \n",
    "num_features = 10\n",
    "observe_speedup(num_training_examples, num_features)"
   ]
  },
  {
   "cell_type": "code",
   "execution_count": 253,
   "metadata": {},
   "outputs": [
    {
     "name": "stdout",
     "output_type": "stream",
     "text": [
      "The vectorized computation was 414.824352245 times faster than the explicit for loop\n"
     ]
    }
   ],
   "source": [
    "num_training_examples = 100000 \n",
    "num_features = 10\n",
    "observe_speedup(num_training_examples, num_features)"
   ]
  },
  {
   "cell_type": "code",
   "execution_count": 254,
   "metadata": {},
   "outputs": [
    {
     "name": "stdout",
     "output_type": "stream",
     "text": [
      "The vectorized computation was 2373.12824913 times faster than the explicit for loop\n"
     ]
    }
   ],
   "source": [
    "num_training_examples = 10000000 \n",
    "num_features = 10\n",
    "observe_speedup(num_training_examples, num_features)"
   ]
  }
 ],
 "metadata": {
  "kernelspec": {
   "display_name": "Python 2",
   "language": "python",
   "name": "python2"
  },
  "language_info": {
   "codemirror_mode": {
    "name": "ipython",
    "version": 2
   },
   "file_extension": ".py",
   "mimetype": "text/x-python",
   "name": "python",
   "nbconvert_exporter": "python",
   "pygments_lexer": "ipython2",
   "version": "2.7.13"
  }
 },
 "nbformat": 4,
 "nbformat_minor": 2
}
